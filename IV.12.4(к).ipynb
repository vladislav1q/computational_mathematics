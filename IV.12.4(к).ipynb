{
 "cells": [
  {
   "cell_type": "markdown",
   "metadata": {},
   "source": [
    "# Ниже приведено решение практической задачи 12.4(к) из раздела нелинейные уравнения."
   ]
  },
  {
   "cell_type": "markdown",
   "metadata": {},
   "source": [
    "## Давайте для начала построим для исходной задачи два итерационныч процесса, исследуем их на сходимость и проверим на практике, как они справляются с решением уравнения."
   ]
  },
  {
   "cell_type": "markdown",
   "metadata": {},
   "source": [
    "Нам задано уравнение:\n",
    "$$ \\ln(x) + (x - 1)^3 = 0 $$\n",
    "\n",
    "Очевидно что функция на x > 0 является возрастающей как сумма двух возрастающих функций. x = 0 является решением уравнения. Будем рассматривать итерационный процесс на (0.5,1.5).\n",
    "\n",
    "Построим итерационный процесс 1:\n",
    "$$ \\ln(x) = (1 - x)^3 $$\n",
    "$$ e^{\\ln(x)} = e^{(1 - x)^3} $$\n",
    "$$ {\\bf x_{n+1} = e^{(1 - x_n)^3} } $$\n",
    "\n",
    "Построим итерационный процесс 2:\n",
    "$$ (\\ln(x))^{\\frac{1}{3}} = (1 - x) $$\n",
    "$$ { \\bf x_{n+1} = 1 - (\\ln(x_n))^{\\frac{1}{3}} }  $$\n",
    "\n",
    "Исследуем процесс 1 на сходимость:\n",
    "\n",
    "$$ |f'(x)| = | 3e^{(1 - x)^3} * (1 - x)^2 | < | \\frac{3}{4}e^{\\frac{1}{8}}  | < | 0.85 | < 1 $$\n",
    "\n",
    "$$\\Rightarrow Процесс \\quad{ \\bf x_{n+1} = e^{(1 - x_n)^3} } \\quadсходится $$\n",
    "Исследуем процесс 2 на сходимость:\n",
    "\n",
    "$$ |f'(x)| = | \\frac{1}{3x(\\ln(x))^{\\frac{2}{3}}} | > 1 $$\n",
    "\n",
    "$$\\Rightarrow Процесс \\quad { \\bf x_{n+1} = 1 - (\\ln(x_n))^{\\frac{1}{3}} } \\quad расходится $$"
   ]
  },
  {
   "cell_type": "markdown",
   "metadata": {},
   "source": [
    "## Исследуем процессы на сходимость."
   ]
  },
  {
   "cell_type": "code",
   "execution_count": 1,
   "metadata": {},
   "outputs": [],
   "source": [
    "import numpy as np\n",
    "from matplotlib import pyplot as plt\n",
    "import matplotlib as mpl\n",
    "import scipy as sp"
   ]
  },
  {
   "cell_type": "code",
   "execution_count": 27,
   "metadata": {},
   "outputs": [],
   "source": [
    "def f1(x):\n",
    "    return np.exp((1-x)**3)\n",
    "def f2(x):\n",
    "    ln_x = np.log(x)\n",
    "    if ln_x > 0:\n",
    "        return 1 - ln_x**(1/3.0)\n",
    "    else:\n",
    "        return 1 + (-ln_x)**(1/3.0)"
   ]
  },
  {
   "cell_type": "code",
   "execution_count": 30,
   "metadata": {},
   "outputs": [
    {
     "name": "stdout",
     "output_type": "stream",
     "text": [
      "Процесс 1:\n",
      "Корни уравнения на каждой итерации:\n",
      "0.6\n",
      "1.0660923987615052\n",
      "0.9997113365130885\n",
      "1.0000000000240534\n",
      "1.0\n",
      "1.0\n",
      "1.0\n",
      "1.0\n",
      "1.0\n",
      "1.0\n",
      "1.0\n",
      "1.4\n",
      "0.9380049995307296\n",
      "1.000238298738695\n",
      "0.9999999999864679\n",
      "1.0\n",
      "1.0\n",
      "1.0\n",
      "1.0\n",
      "1.0\n",
      "1.0\n",
      "1.0\n",
      "Процесс 2:\n",
      "Корни уравнения на каждой итерации:\n",
      "0.6\n",
      "1.7993878774634113\n",
      "0.16249106346983988\n",
      "2.2202875504130994\n",
      "0.07259725144151608\n",
      "2.3790815524215576\n",
      "0.046562953871884694\n",
      "2.452899475333514\n",
      "0.03548754020133371\n",
      "2.4945839678376003\n",
      "0.02948694412498154\n"
     ]
    }
   ],
   "source": [
    "x = 0.6\n",
    "iterations = 10\n",
    "print 'Процесс 1:'\n",
    "print 'Корни уравнения на каждой итерации:'\n",
    "print x\n",
    "\n",
    "for i in range(iterations):\n",
    "    x = f1(x)\n",
    "    print x\n",
    "    \n",
    "x = 1.4\n",
    "print x\n",
    "\n",
    "for i in range(iterations):\n",
    "    x = f1(x)\n",
    "    print x\n",
    "\n",
    "x = 0.6\n",
    "print 'Процесс 2:'\n",
    "print 'Корни уравнения на каждой итерации:'\n",
    "print x\n",
    "\n",
    "for i in range(iterations):\n",
    "    x = f2(x)\n",
    "    print x"
   ]
  },
  {
   "cell_type": "markdown",
   "metadata": {},
   "source": [
    "## Как и предполагалось, первый итерационный процесс быстро сходится(уже на 4й итерации точность превосходит e_машинное), а второй не сходится."
   ]
  }
 ],
 "metadata": {
  "kernelspec": {
   "display_name": "Python 2",
   "language": "python",
   "name": "python2"
  },
  "language_info": {
   "codemirror_mode": {
    "name": "ipython",
    "version": 2
   },
   "file_extension": ".py",
   "mimetype": "text/x-python",
   "name": "python",
   "nbconvert_exporter": "python",
   "pygments_lexer": "ipython2",
   "version": "2.7.16"
  }
 },
 "nbformat": 4,
 "nbformat_minor": 2
}
