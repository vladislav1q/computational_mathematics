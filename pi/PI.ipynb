{
 "cells": [
  {
   "cell_type": "markdown",
   "metadata": {},
   "source": [
    "Рассмотрим следущую задачу:\n",
    "\n",
    "Требуется вычислить следущий интеграл приближенно с точностью 10^-4, сравнить с точным аналитическим значением:\n",
    "\n",
    "$${\\displaystyle \\int \\limits _{0}^{\\infty }e^{{-x^{2}\\over{4\\pi}}}\\,\\mathrm {d} x=\\pi}$$\n",
    "\n",
    "Сравнить данный метод вычисления интеграла с алгоритмом архимеда в смысле сравнения времени исполнения программы и достигаемой точности вычисления."
   ]
  },
  {
   "cell_type": "markdown",
   "metadata": {},
   "source": [
    "Вычислим этот интеграл самым простым методом - методом прямоугольников."
   ]
  },
  {
   "cell_type": "code",
   "execution_count": 3,
   "metadata": {},
   "outputs": [],
   "source": [
    "import math\n",
    "import numpy as np\n",
    "import matplotlib.pyplot as plt\n",
    "import pandas as pd"
   ]
  },
  {
   "cell_type": "code",
   "execution_count": 16,
   "metadata": {},
   "outputs": [],
   "source": [
    "def calculate_integral():\n",
    "    h = 10**(-5)\n",
    "    result = 0.00000000\n",
    "    for x in np.arange(0.0, 20.0, h):\n",
    "        result += h*np.exp(-x*x/(4.0*np.pi))\n",
    "    \n",
    "    print ('result for calculating the integral:')\n",
    "    print result\n",
    "    print ('error:')\n",
    "    print np.abs(np.pi - result)"
   ]
  },
  {
   "cell_type": "code",
   "execution_count": 20,
   "metadata": {},
   "outputs": [
    {
     "name": "stdout",
     "output_type": "stream",
     "text": [
      "result for calculating the integral:\n",
      "3.1415976535845203\n",
      "error:\n",
      "4.999994727139523e-06\n",
      "CPU times: user 2.9 s, sys: 32.2 ms, total: 2.93 s\n",
      "Wall time: 2.87 s\n"
     ]
    }
   ],
   "source": [
    "%time calculate_integral()"
   ]
  },
  {
   "cell_type": "markdown",
   "metadata": {},
   "source": [
    "Алгоритм Архимеда был ранее реализован, прилагаю документ, а здесь результат работы:\n",
    "\n",
    "для 20угольника число пи равняется:\n",
    "\n",
    "20      3.141591421511\n",
    "\n",
    "длительность выполнения программы: \n",
    "\n",
    "0.0002950000 сек"
   ]
  },
  {
   "cell_type": "markdown",
   "metadata": {},
   "source": [
    "## Вывод\n",
    "\n",
    "Видно, что одинаковые точности достигаются совершенно разными временами исполнения программы(разница времени исполнения слишком большая, ее нельзя списать на медленность выполнения кода на python против скорости на c++).\n",
    "\n",
    "Для достижения точности 10^-6 алгоритмам понадобилось:\n",
    "\n",
    "алгоритм архимеда: 0,3мс\n",
    "\n",
    "вычисление интеграла: 3с\n",
    "\n",
    "Если даже и делать поправку на скорость исполнения кода на разных языках, разница окажется порядка 0,3с/0,3мс = 1000 раз, что говорит о более совершенном подходе в алгоритме архимеда."
   ]
  }
 ],
 "metadata": {
  "kernelspec": {
   "display_name": "Python 2",
   "language": "python",
   "name": "python2"
  },
  "language_info": {
   "codemirror_mode": {
    "name": "ipython",
    "version": 2
   },
   "file_extension": ".py",
   "mimetype": "text/x-python",
   "name": "python",
   "nbconvert_exporter": "python",
   "pygments_lexer": "ipython2",
   "version": "2.7.16"
  }
 },
 "nbformat": 4,
 "nbformat_minor": 2
}
